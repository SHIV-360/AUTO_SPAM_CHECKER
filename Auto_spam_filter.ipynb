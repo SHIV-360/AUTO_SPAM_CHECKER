{
 "cells": [
  {
   "cell_type": "markdown",
   "id": "3b1f6bcd",
   "metadata": {},
   "source": [
    "## Create a model to check spam mails\n",
    "I am going to use RandomForest based on results, if you found a better model then use it"
   ]
  },
  {
   "cell_type": "code",
   "execution_count": 100,
   "id": "cc1c8862",
   "metadata": {},
   "outputs": [],
   "source": [
    "import numpy as np\n",
    "import pandas as pd\n",
    "import matplotlib.pyplot as plt\n",
    "\n",
    "from sklearn.model_selection import train_test_split\n",
    "from sklearn.feature_extraction.text import TfidfVectorizer\n",
    "\n",
    "from sklearn.metrics import accuracy_score\n",
    "from sklearn.metrics import precision_score\n",
    "from sklearn.metrics import recall_score\n",
    "from sklearn.metrics import f1_score"
   ]
  },
  {
   "cell_type": "code",
   "execution_count": 101,
   "id": "91d47f14",
   "metadata": {},
   "outputs": [],
   "source": [
    "from sklearn.linear_model import LogisticRegression\n",
    "from sklearn.tree import DecisionTreeClassifier\n",
    "from sklearn.ensemble import RandomForestClassifier"
   ]
  },
  {
   "cell_type": "code",
   "execution_count": 102,
   "id": "cc348497",
   "metadata": {},
   "outputs": [
    {
     "data": {
      "text/html": [
       "<div>\n",
       "<style scoped>\n",
       "    .dataframe tbody tr th:only-of-type {\n",
       "        vertical-align: middle;\n",
       "    }\n",
       "\n",
       "    .dataframe tbody tr th {\n",
       "        vertical-align: top;\n",
       "    }\n",
       "\n",
       "    .dataframe thead th {\n",
       "        text-align: right;\n",
       "    }\n",
       "</style>\n",
       "<table border=\"1\" class=\"dataframe\">\n",
       "  <thead>\n",
       "    <tr style=\"text-align: right;\">\n",
       "      <th></th>\n",
       "      <th>Category</th>\n",
       "      <th>Message</th>\n",
       "    </tr>\n",
       "  </thead>\n",
       "  <tbody>\n",
       "    <tr>\n",
       "      <th>0</th>\n",
       "      <td>ham</td>\n",
       "      <td>Go until jurong point crazy.. Available only i...</td>\n",
       "    </tr>\n",
       "    <tr>\n",
       "      <th>1</th>\n",
       "      <td>ham</td>\n",
       "      <td>Ok lar... Joking wif u oni...</td>\n",
       "    </tr>\n",
       "    <tr>\n",
       "      <th>2</th>\n",
       "      <td>spam</td>\n",
       "      <td>Free entry in 2 a wkly comp to win FA Cup fina...</td>\n",
       "    </tr>\n",
       "    <tr>\n",
       "      <th>3</th>\n",
       "      <td>ham</td>\n",
       "      <td>U dun say so early hor... U c already then say...</td>\n",
       "    </tr>\n",
       "    <tr>\n",
       "      <th>4</th>\n",
       "      <td>ham</td>\n",
       "      <td>Nah I dont think he goes to usf he lives aroun...</td>\n",
       "    </tr>\n",
       "    <tr>\n",
       "      <th>...</th>\n",
       "      <td>...</td>\n",
       "      <td>...</td>\n",
       "    </tr>\n",
       "    <tr>\n",
       "      <th>16435</th>\n",
       "      <td>ham</td>\n",
       "      <td>re : research and development charges to gpg  ...</td>\n",
       "    </tr>\n",
       "    <tr>\n",
       "      <th>16436</th>\n",
       "      <td>ham</td>\n",
       "      <td>re : receipts from visit  jim   thanks again f...</td>\n",
       "    </tr>\n",
       "    <tr>\n",
       "      <th>16437</th>\n",
       "      <td>ham</td>\n",
       "      <td>re : enron case study update  wow ! all on the...</td>\n",
       "    </tr>\n",
       "    <tr>\n",
       "      <th>16438</th>\n",
       "      <td>ham</td>\n",
       "      <td>re : interest  david   please  call shirley cr...</td>\n",
       "    </tr>\n",
       "    <tr>\n",
       "      <th>16439</th>\n",
       "      <td>ham</td>\n",
       "      <td>news : aurora 5 . 2 update  aurora version 5 ....</td>\n",
       "    </tr>\n",
       "  </tbody>\n",
       "</table>\n",
       "<p>16440 rows × 2 columns</p>\n",
       "</div>"
      ],
      "text/plain": [
       "      Category                                            Message\n",
       "0          ham  Go until jurong point crazy.. Available only i...\n",
       "1          ham                      Ok lar... Joking wif u oni...\n",
       "2         spam  Free entry in 2 a wkly comp to win FA Cup fina...\n",
       "3          ham  U dun say so early hor... U c already then say...\n",
       "4          ham  Nah I dont think he goes to usf he lives aroun...\n",
       "...        ...                                                ...\n",
       "16435      ham  re : research and development charges to gpg  ...\n",
       "16436      ham  re : receipts from visit  jim   thanks again f...\n",
       "16437      ham  re : enron case study update  wow ! all on the...\n",
       "16438      ham  re : interest  david   please  call shirley cr...\n",
       "16439      ham  news : aurora 5 . 2 update  aurora version 5 ....\n",
       "\n",
       "[16440 rows x 2 columns]"
      ]
     },
     "execution_count": 102,
     "metadata": {},
     "output_type": "execute_result"
    }
   ],
   "source": [
    "df =  pd.read_csv(r\"C:\\Users\\SHIVANG DWIVEDI\\Desktop\\Gmail_spam_filter\\new.csv\")\n",
    "df"
   ]
  },
  {
   "cell_type": "code",
   "execution_count": 103,
   "id": "74567d76",
   "metadata": {},
   "outputs": [],
   "source": [
    "# Load the CSV file\n",
    "data = pd.read_csv('new.csv')"
   ]
  },
  {
   "cell_type": "code",
   "execution_count": 104,
   "id": "dd6c7cb4",
   "metadata": {},
   "outputs": [
    {
     "data": {
      "text/plain": [
       "Category    0\n",
       "Message     0\n",
       "dtype: int64"
      ]
     },
     "execution_count": 104,
     "metadata": {},
     "output_type": "execute_result"
    }
   ],
   "source": [
    "data.isnull().sum()"
   ]
  },
  {
   "cell_type": "code",
   "execution_count": 105,
   "id": "2e2f82d4",
   "metadata": {},
   "outputs": [
    {
     "data": {
      "text/plain": [
       "Category    object\n",
       "Message     object\n",
       "dtype: object"
      ]
     },
     "execution_count": 105,
     "metadata": {},
     "output_type": "execute_result"
    }
   ],
   "source": [
    "data.dtypes"
   ]
  },
  {
   "cell_type": "code",
   "execution_count": 106,
   "id": "acc2e5e5",
   "metadata": {},
   "outputs": [],
   "source": [
    "# Replace 'spam' with 0 and 'ham' with 1 in the 'Category' column\n",
    "data.loc[data['Category'] == 'spam', 'Category'] = 0\n",
    "data.loc[data['Category'] == 'ham', 'Category'] = 1"
   ]
  },
  {
   "cell_type": "code",
   "execution_count": 107,
   "id": "0c1bc1f2",
   "metadata": {},
   "outputs": [
    {
     "data": {
      "text/plain": [
       "Category\n",
       "1    12846\n",
       "0     3594\n",
       "Name: count, dtype: int64"
      ]
     },
     "execution_count": 107,
     "metadata": {},
     "output_type": "execute_result"
    }
   ],
   "source": [
    "data['Category'].value_counts()"
   ]
  },
  {
   "cell_type": "code",
   "execution_count": 108,
   "id": "e0c4d4f1",
   "metadata": {},
   "outputs": [],
   "source": [
    "X = data['Message']\n",
    "\n",
    "Y = data['Category']"
   ]
  },
  {
   "cell_type": "code",
   "execution_count": 109,
   "id": "2e966f37",
   "metadata": {},
   "outputs": [
    {
     "data": {
      "text/plain": [
       "0        Go until jurong point crazy.. Available only i...\n",
       "1                            Ok lar... Joking wif u oni...\n",
       "2        Free entry in 2 a wkly comp to win FA Cup fina...\n",
       "3        U dun say so early hor... U c already then say...\n",
       "4        Nah I dont think he goes to usf he lives aroun...\n",
       "                               ...                        \n",
       "16435    re : research and development charges to gpg  ...\n",
       "16436    re : receipts from visit  jim   thanks again f...\n",
       "16437    re : enron case study update  wow ! all on the...\n",
       "16438    re : interest  david   please  call shirley cr...\n",
       "16439    news : aurora 5 . 2 update  aurora version 5 ....\n",
       "Name: Message, Length: 16440, dtype: object"
      ]
     },
     "execution_count": 109,
     "metadata": {},
     "output_type": "execute_result"
    }
   ],
   "source": [
    "X"
   ]
  },
  {
   "cell_type": "code",
   "execution_count": 110,
   "id": "53ede04d",
   "metadata": {},
   "outputs": [
    {
     "data": {
      "text/plain": [
       "0        1\n",
       "1        1\n",
       "2        0\n",
       "3        1\n",
       "4        1\n",
       "        ..\n",
       "16435    1\n",
       "16436    1\n",
       "16437    1\n",
       "16438    1\n",
       "16439    1\n",
       "Name: Category, Length: 16440, dtype: object"
      ]
     },
     "execution_count": 110,
     "metadata": {},
     "output_type": "execute_result"
    }
   ],
   "source": [
    "Y"
   ]
  },
  {
   "cell_type": "code",
   "execution_count": 111,
   "id": "e5fcf412",
   "metadata": {},
   "outputs": [],
   "source": [
    "X_train, X_test, Y_train, Y_test = train_test_split(X, Y, test_size=0.2, random_state=3)"
   ]
  },
  {
   "cell_type": "code",
   "execution_count": 112,
   "id": "711f5006",
   "metadata": {},
   "outputs": [
    {
     "name": "stdout",
     "output_type": "stream",
     "text": [
      "(16440,)\n",
      "(13152,)\n",
      "(3288,)\n"
     ]
    }
   ],
   "source": [
    "print(X.shape)\n",
    "print(X_train.shape)\n",
    "print(X_test.shape)"
   ]
  },
  {
   "cell_type": "code",
   "execution_count": 113,
   "id": "a8fdbc37",
   "metadata": {},
   "outputs": [],
   "source": [
    "feature_extraction = TfidfVectorizer(min_df = 1, stop_words='english', lowercase = 'True')"
   ]
  },
  {
   "cell_type": "code",
   "execution_count": 114,
   "id": "796fdced",
   "metadata": {},
   "outputs": [],
   "source": [
    "feature_extraction = TfidfVectorizer(lowercase=True)\n",
    "\n",
    "X_train_features = feature_extraction.fit_transform(X_train)\n",
    "X_test_features = feature_extraction.transform(X_test)"
   ]
  },
  {
   "cell_type": "code",
   "execution_count": 115,
   "id": "124c387b",
   "metadata": {},
   "outputs": [],
   "source": [
    "Y_train = Y_train.astype('int')\n",
    "Y_test = Y_test.astype('int')"
   ]
  },
  {
   "cell_type": "markdown",
   "id": "74683297",
   "metadata": {},
   "source": [
    "### LOGISTIC REGRESSION"
   ]
  },
  {
   "cell_type": "code",
   "execution_count": 116,
   "id": "fdb86511",
   "metadata": {},
   "outputs": [
    {
     "name": "stdout",
     "output_type": "stream",
     "text": [
      "Logistic Regression:\n",
      "\n",
      "Training Data Accuracy: 0.9704987834549879\n",
      "Testing Data Accuracy : 0.9540754257907542\n",
      "Precision             : 0.9496644295302014\n",
      "Recall                : 0.9937573156457277\n",
      "F1 Score              : 0.971210676835081\n"
     ]
    }
   ],
   "source": [
    "lr = LogisticRegression()\n",
    "lr.fit(X_train_features, Y_train)\n",
    "\n",
    "\n",
    "lr_train = lr.predict(X_train_features)\n",
    "lr_test = lr.predict(X_test_features)\n",
    "\n",
    "        \n",
    "lr_train_acc = accuracy_score(Y_train, lr_train)\n",
    "lr_test_acc = accuracy_score(Y_test, lr_test)\n",
    "\n",
    "\n",
    "lr_precision = precision_score(Y_test, lr_test)\n",
    "lr_recall = recall_score(Y_test, lr_test)\n",
    "lr_f1 = f1_score(Y_test, lr_test)\n",
    "\n",
    "\n",
    "print(\"Logistic Regression:\\n\")\n",
    "print(\"Training Data Accuracy:\", lr_train_acc)\n",
    "print(\"Testing Data Accuracy :\", lr_test_acc)\n",
    "\n",
    "print(\"Precision             :\", lr_precision)\n",
    "print(\"Recall                :\", lr_recall)\n",
    "print(\"F1 Score              :\", lr_f1)"
   ]
  },
  {
   "cell_type": "markdown",
   "id": "3398ca05",
   "metadata": {},
   "source": [
    "### DECISION TREES"
   ]
  },
  {
   "cell_type": "code",
   "execution_count": 117,
   "id": "669b602f",
   "metadata": {},
   "outputs": [
    {
     "name": "stdout",
     "output_type": "stream",
     "text": [
      "Decision Tress:\n",
      "\n",
      "Training Data Accuracy: 0.9999239659367397\n",
      "Testing Data Accuracy : 0.9333941605839416\n",
      "Precision             : 0.9546159813809154\n",
      "Recall                : 0.9602028872415138\n",
      "F1 Score              : 0.9574012837969267\n"
     ]
    }
   ],
   "source": [
    "dtrees = DecisionTreeClassifier()\n",
    "dtrees.fit(X_train_features, Y_train)\n",
    "\n",
    "\n",
    "dt_train = dtrees.predict(X_train_features)\n",
    "dt_test = dtrees.predict(X_test_features)\n",
    "\n",
    "\n",
    "dt_train_acc = accuracy_score(Y_train, dt_train)\n",
    "dt_test_acc = accuracy_score(Y_test, dt_test)\n",
    "\n",
    "\n",
    "dt_precision = precision_score(Y_test, dt_test)\n",
    "dt_recall = recall_score(Y_test, dt_test)\n",
    "dt_f1 = f1_score(Y_test, dt_test)\n",
    "\n",
    "\n",
    "print(\"Decision Tress:\\n\")\n",
    "print(\"Training Data Accuracy:\", dt_train_acc)\n",
    "print(\"Testing Data Accuracy :\", dt_test_acc)\n",
    "\n",
    "print(\"Precision             :\", dt_precision)\n",
    "print(\"Recall                :\", dt_recall)\n",
    "print(\"F1 Score              :\", dt_f1)"
   ]
  },
  {
   "cell_type": "markdown",
   "id": "43f66f5c",
   "metadata": {},
   "source": [
    "### RANDOM FOREST"
   ]
  },
  {
   "cell_type": "code",
   "execution_count": 118,
   "id": "bf28b066",
   "metadata": {},
   "outputs": [
    {
     "name": "stdout",
     "output_type": "stream",
     "text": [
      "Random Forest:\n",
      "\n",
      "Training Data Accuracy: 0.9999239659367397\n",
      "Testing Data Accuracy : 0.9522506082725061\n",
      "Precision             : 0.9442392909896603\n",
      "Recall                : 0.9976589933671479\n",
      "F1 Score              : 0.9702143805729463\n"
     ]
    }
   ],
   "source": [
    "rf = RandomForestClassifier()\n",
    "rf.fit(X_train_features, Y_train)\n",
    "\n",
    "\n",
    "rf_train = rf.predict(X_train_features)\n",
    "rf_test = rf.predict(X_test_features)\n",
    "\n",
    "\n",
    "rf_train_acc = accuracy_score(Y_train, rf_train)\n",
    "rf_test_acc = accuracy_score(Y_test, rf_test)\n",
    "\n",
    "\n",
    "rf_precision = precision_score(Y_test, rf_test)\n",
    "rf_recall = recall_score(Y_test, rf_test)\n",
    "rf_f1 = f1_score(Y_test, rf_test)\n",
    "\n",
    "\n",
    "print(\"Random Forest:\\n\")\n",
    "print(\"Training Data Accuracy:\", rf_train_acc)\n",
    "print(\"Testing Data Accuracy :\", rf_test_acc)   \n",
    "           \n",
    "print(\"Precision             :\", rf_precision)\n",
    "print(\"Recall                :\", rf_recall)\n",
    "print(\"F1 Score              :\", rf_f1)"
   ]
  },
  {
   "cell_type": "markdown",
   "id": "ae56053e",
   "metadata": {},
   "source": [
    "### Metrics Visualization"
   ]
  },
  {
   "cell_type": "code",
   "execution_count": 119,
   "id": "c82afbcd",
   "metadata": {},
   "outputs": [],
   "source": [
    "train_acc_list = {\"LR\":lr_train_acc,\n",
    "                  \"DT\":dt_train_acc,\n",
    "                  \"RF\":rf_train_acc,}\n",
    "\n",
    "test_acc_list = {\"LR\":lr_test_acc,\n",
    "                  \"DT\":dt_test_acc,\n",
    "                  \"RF\":rf_test_acc,}\n",
    "\n",
    "precision_list = {\"LR\":lr_precision,\n",
    "                  \"DT\":dt_precision,\n",
    "                  \"RF\":rf_precision,}\n",
    "\n",
    "recall_list = {\"LR\":lr_recall,\n",
    "               \"DT\":dt_recall,\n",
    "               \"RF\":rf_recall,}\n",
    "\n",
    "f1_list = {\"LR\":lr_f1,\n",
    "               \"DT\":dt_f1,\n",
    "               \"RF\":rf_f1,}"
   ]
  },
  {
   "cell_type": "code",
   "execution_count": 120,
   "id": "f23ebde4",
   "metadata": {},
   "outputs": [
    {
     "data": {
      "text/html": [
       "<div>\n",
       "<style scoped>\n",
       "    .dataframe tbody tr th:only-of-type {\n",
       "        vertical-align: middle;\n",
       "    }\n",
       "\n",
       "    .dataframe tbody tr th {\n",
       "        vertical-align: top;\n",
       "    }\n",
       "\n",
       "    .dataframe thead th {\n",
       "        text-align: right;\n",
       "    }\n",
       "</style>\n",
       "<table border=\"1\" class=\"dataframe\">\n",
       "  <thead>\n",
       "    <tr style=\"text-align: right;\">\n",
       "      <th></th>\n",
       "      <th>Traning Accuracy</th>\n",
       "      <th>Testing Accuracy</th>\n",
       "      <th>Precision Score</th>\n",
       "      <th>Recall Score</th>\n",
       "      <th>F1 Score</th>\n",
       "    </tr>\n",
       "  </thead>\n",
       "  <tbody>\n",
       "    <tr>\n",
       "      <th>LR</th>\n",
       "      <td>0.970499</td>\n",
       "      <td>0.954075</td>\n",
       "      <td>0.949664</td>\n",
       "      <td>0.993757</td>\n",
       "      <td>0.971211</td>\n",
       "    </tr>\n",
       "    <tr>\n",
       "      <th>DT</th>\n",
       "      <td>0.999924</td>\n",
       "      <td>0.933394</td>\n",
       "      <td>0.954616</td>\n",
       "      <td>0.960203</td>\n",
       "      <td>0.957401</td>\n",
       "    </tr>\n",
       "    <tr>\n",
       "      <th>RF</th>\n",
       "      <td>0.999924</td>\n",
       "      <td>0.952251</td>\n",
       "      <td>0.944239</td>\n",
       "      <td>0.997659</td>\n",
       "      <td>0.970214</td>\n",
       "    </tr>\n",
       "  </tbody>\n",
       "</table>\n",
       "</div>"
      ],
      "text/plain": [
       "    Traning Accuracy  Testing Accuracy  Precision Score  Recall Score  \\\n",
       "LR          0.970499          0.954075         0.949664      0.993757   \n",
       "DT          0.999924          0.933394         0.954616      0.960203   \n",
       "RF          0.999924          0.952251         0.944239      0.997659   \n",
       "\n",
       "    F1 Score  \n",
       "LR  0.971211  \n",
       "DT  0.957401  \n",
       "RF  0.970214  "
      ]
     },
     "execution_count": 120,
     "metadata": {},
     "output_type": "execute_result"
    }
   ],
   "source": [
    "a1 =  pd.DataFrame.from_dict(train_acc_list, orient = 'index', columns = [\"Traning Accuracy\"])\n",
    "a2 =  pd.DataFrame.from_dict(test_acc_list, orient = 'index', columns = [\"Testing Accuracy\"])\n",
    "a3 =  pd.DataFrame.from_dict(precision_list, orient = 'index', columns = [\"Precision Score\"])\n",
    "a4 =  pd.DataFrame.from_dict(recall_list, orient = 'index', columns = [\"Recall Score\"])\n",
    "a5 =  pd.DataFrame.from_dict(f1_list, orient = 'index', columns = [\"F1 Score\"])\n",
    "\n",
    "org = pd.concat([a1, a2, a3, a4, a5], axis = 1)\n",
    "org"
   ]
  },
  {
   "cell_type": "code",
   "execution_count": 121,
   "id": "b2b950ab",
   "metadata": {},
   "outputs": [
    {
     "name": "stdout",
     "output_type": "stream",
     "text": [
      "HAM MAIL\n"
     ]
    }
   ],
   "source": [
    "# For the input mail prediction\n",
    "input_mail = [\"Dear Profesor/Students Greetings from VIT Bhopal University.We are glad to announce that VIT Bhopal University (VITB), in association with the International Society for Air Breathing Engines (ISABE), is organizing the “International Conference on Sustainable Aerospace Technologies and Innovations -2025” (ICSATI-2025), during 07-08th February 2025.This a unique stage we are preparing for you to showcase your research with eminent experts from  ISRO, VSSC, Rolls Royce, TASL, DRDO, IITM, IITB, Cranfield University-UK, and the University of Patras-Greece.  All accepted papers will be published in Springer Proceedings, providing a valuable platform for disseminating your research to a global audience Important Deadlines to Note.Abstract Submission: On or Before December 30, 2024 Full-Length Paper Submission: January 15, 2025 For Conference Website- https://icsati.vercel.app/\"]\n",
    "\n",
    "# Transform the input mail features\n",
    "input_mail_features = feature_extraction.transform(input_mail)\n",
    "\n",
    "# Predict with the trained Random Forest model\n",
    "prediction = dtrees.predict(input_mail_features)\n",
    "\n",
    "# Output the result\n",
    "if prediction == 0:\n",
    "    print(\"SPAM MAIL\")\n",
    "else:\n",
    "    print(\"HAM MAIL\")"
   ]
  },
  {
   "cell_type": "markdown",
   "id": "6b2bbe58",
   "metadata": {},
   "source": [
    "## Checks emails from Gmail\n",
    "If a spam is found then it gets moved to spam folder in Gmail itself\n",
    "print the date and time of start and input has to be a one line remove unwanted paragraph and double \" since it will be checked based on strind input "
   ]
  },
  {
   "cell_type": "markdown",
   "id": "d1b3a1a5",
   "metadata": {},
   "source": [
    "## With GUI"
   ]
  },
  {
   "cell_type": "code",
   "execution_count": 122,
   "id": "cff4cca2",
   "metadata": {},
   "outputs": [],
   "source": [
    "import imaplib\n",
    "import email\n",
    "import time\n",
    "from email.header import decode_header\n",
    "import re\n",
    "import password\n",
    "import threading\n",
    "from tkinter import *\n",
    "from tkinter import messagebox\n",
    "\n",
    "# Gmail credentials\n",
    "EMAIL = password.EMAIL  # Replace with your Gmail address\n",
    "PASSWORD = password.PASSWORD  # Replace with the app password you generated\n",
    "IMAP_SERVER = \"imap.gmail.com\" # Use only with Gmail \n",
    "CHECK_INTERVAL = 30  # CoolDown period\n",
    "\n",
    "# Global variable to control the email checker loop\n",
    "stop_checker = False\n",
    "spam_count = 0  # Counter for spam emails"
   ]
  },
  {
   "cell_type": "code",
   "execution_count": 123,
   "id": "de4fddd5",
   "metadata": {},
   "outputs": [],
   "source": [
    "def fetch_and_predict_spam():\n",
    "    \"\"\"Function to fetch emails and predict spam.\"\"\"\n",
    "    global stop_checker, spam_count\n",
    "    try:\n",
    "        # Connect to Gmail's IMAP server\n",
    "        mail = imaplib.IMAP4_SSL(IMAP_SERVER)\n",
    "        mail.login(EMAIL, PASSWORD)\n",
    "\n",
    "        while not stop_checker:\n",
    "            mail.select(\"inbox\")\n",
    "            status, messages = mail.search(None, \"ALL\")\n",
    "            email_ids = messages[0].split()\n",
    "\n",
    "            if email_ids:\n",
    "                latest_email_id = email_ids[-1]\n",
    "                status, msg_data = mail.fetch(latest_email_id, \"(RFC822)\")\n",
    "\n",
    "                for response_part in msg_data:\n",
    "                    if isinstance(response_part, tuple):\n",
    "                        msg = email.message_from_bytes(response_part[1])\n",
    "                        subject, encoding = decode_header(msg[\"Subject\"])[0]\n",
    "                        if isinstance(subject, bytes):\n",
    "                            subject = subject.decode(encoding if encoding else \"utf-8\")\n",
    "                        print(f\"Subject: {subject}\")\n",
    "\n",
    "                        body = \"\"\n",
    "                        if msg.is_multipart():\n",
    "                            for part in msg.walk():\n",
    "                                content_type = part.get_content_type()\n",
    "                                content_disposition = str(part.get(\"Content-Disposition\"))\n",
    "\n",
    "                                if content_type == \"text/plain\" and \"attachment\" not in content_disposition:\n",
    "                                    body = part.get_payload(decode=True).decode(\"utf-8\")\n",
    "                                    break\n",
    "                        else:\n",
    "                            body = msg.get_payload(decode=True).decode(\"utf-8\")\n",
    "\n",
    "                        body_cleaned = re.sub(r'\\s+', ' ', body).strip()\n",
    "                        body_cleaned = body_cleaned.replace('\"', '')\n",
    "                        print(f\"Cleaned Body: {body_cleaned}\")\n",
    "\n",
    "                        # Feed the cleaned email body into the model\n",
    "                        input_mail_features = feature_extraction.transform([body_cleaned])\n",
    "                        prediction = dtrees.predict(input_mail_features)\n",
    "\n",
    "                        if prediction == 0:\n",
    "                            print(\"SPAM MAIL\")\n",
    "                            mail.create(\"[Gmail]/Spam\")\n",
    "                            mail.copy(latest_email_id, \"[Gmail]/Spam\")\n",
    "                            mail.store(latest_email_id, '+FLAGS', '\\\\Deleted')\n",
    "                            mail.expunge()\n",
    "                            print(\"Email moved to Spam folder.\")\n",
    "\n",
    "                            # Log spam email subject to a file\n",
    "                            with open(\"spam_emails.txt\", \"a\") as file:\n",
    "                                file.write(f\"{subject}\\n\")\n",
    "\n",
    "                            spam_count += 1  # Increment the spam count\n",
    "                            update_status_label() \n",
    "                        else:\n",
    "                            print(\"HAM MAIL (Not spam).\")\n",
    "            else:\n",
    "                print(\"No emails found.\")\n",
    "\n",
    "            time.sleep(CHECK_INTERVAL)\n",
    "\n",
    "        mail.logout()\n",
    "    except Exception as e:\n",
    "        print(f\"An error occurred: {e}\")\n",
    "\n",
    "# Function to start the email checker in a thread\n",
    "def start_checker():\n",
    "    global stop_checker, spam_count\n",
    "    stop_checker = False\n",
    "    spam_count = 0  # Reset spam count when starting the checker\n",
    "    checker_thread = threading.Thread(target=fetch_and_predict_spam, daemon=True)\n",
    "    checker_thread.start()\n",
    "    update_status_label()  # Update the label when the checker starts\n",
    "\n",
    "# Function to stop the email checker\n",
    "def stop_checker_func():\n",
    "    global stop_checker\n",
    "    stop_checker = True\n",
    "    update_status_label()  # Update the label when the checker stops\n",
    "\n",
    "# Function to update the status label with the current state and spam count\n",
    "def update_status_label():\n",
    "    if stop_checker:\n",
    "        status_label.config(text=\"Spam Checker Stopped !!!\")\n",
    "    else:\n",
    "        status_label.config(text=f\"Spam Checker Running.... {spam_count} spam emails caught!\")\n",
    "\n",
    "# Create the Tkinter UI\n",
    "root = Tk()\n",
    "root.title(\"Email Spam Checker\")\n",
    "root.geometry(\"400x250\")\n",
    "\n",
    "Label(root, text=\"Email Spam Checker\", font=(\"Helvetica\", 16)).pack(pady=20)\n",
    "\n",
    "# Status label to show the current status and spam count\n",
    "status_label = Label(root, text=\"Spam Checker Stopped !!!\", font=(\"Helvetica\", 12))\n",
    "status_label.pack(pady=10)\n",
    "\n",
    "start_button = Button(root, text=\"Start Checker\", font=(\"Helvetica\", 12), command=start_checker, bg=\"green\", fg=\"white\")\n",
    "start_button.pack(pady=10)\n",
    "\n",
    "stop_button = Button(root, text=\"Stop Checker\", font=(\"Helvetica\", 12), command=stop_checker_func, bg=\"red\", fg=\"white\")\n",
    "stop_button.pack(pady=10)\n",
    "\n",
    "# Run the Tkinter event loop\n",
    "root.mainloop()"
   ]
  },
  {
   "cell_type": "markdown",
   "id": "bbf943fb",
   "metadata": {},
   "source": [
    "## Without GUI\n",
    "Checks the gmail inbox only once and stops the execution after checking the last email "
   ]
  },
  {
   "cell_type": "code",
   "execution_count": 124,
   "id": "0350d481",
   "metadata": {},
   "outputs": [],
   "source": [
    "# import imaplib\n",
    "# import password\n",
    "# import email\n",
    "# from email.header import decode_header\n",
    "# import re  # For cleaning up the email body\n",
    "\n",
    "# # Gmail credentials\n",
    "# EMAIL = password.EMAIL  # Replace with your Gmail address\n",
    "# PASSWORD = password.PASSWORD  # Replace with the app password you generated\n",
    "# IMAP_SERVER = \"imap.gmail.com\"  # IMAP server for Gmail\n",
    "\n",
    "# def fetch_and_predict_spam():\n",
    "#     try:\n",
    "#         # Connect to Gmail's IMAP server\n",
    "#         mail = imaplib.IMAP4_SSL(IMAP_SERVER)\n",
    "#         mail.login(EMAIL, PASSWORD)\n",
    "\n",
    "#         # Select the inbox folder\n",
    "#         mail.select(\"inbox\")\n",
    "\n",
    "#         # Search for all emails in the inbox\n",
    "#         status, messages = mail.search(None, \"ALL\")\n",
    "#         email_ids = messages[0].split()\n",
    "\n",
    "#         if email_ids:\n",
    "#             latest_email_id = email_ids[-1]  # Get the last email\n",
    "#             status, msg_data = mail.fetch(latest_email_id, \"(RFC822)\")\n",
    "\n",
    "#             for response_part in msg_data:\n",
    "#                 if isinstance(response_part, tuple):\n",
    "#                     # Parse email content\n",
    "#                     msg = email.message_from_bytes(response_part[1])\n",
    "#                     subject, encoding = decode_header(msg[\"Subject\"])[0]\n",
    "#                     if isinstance(subject, bytes):\n",
    "#                         # Decode subject\n",
    "#                         subject = subject.decode(encoding if encoding else \"utf-8\")\n",
    "#                     print(f\"Subject: {subject}\")\n",
    "\n",
    "#                     # Extract email body\n",
    "#                     body = \"\"\n",
    "#                     if msg.is_multipart():\n",
    "#                         for part in msg.walk():\n",
    "#                             content_type = part.get_content_type()\n",
    "#                             content_disposition = str(part.get(\"Content-Disposition\"))\n",
    "\n",
    "#                             if content_type == \"text/plain\" and \"attachment\" not in content_disposition:\n",
    "#                                 # Get the email body\n",
    "#                                 body = part.get_payload(decode=True).decode(\"utf-8\")\n",
    "#                                 break\n",
    "#                     else:\n",
    "#                         # Email is not multipart\n",
    "#                         body = msg.get_payload(decode=True).decode(\"utf-8\")\n",
    "\n",
    "#                     # Clean up email body\n",
    "#                     body_cleaned = re.sub(r'\\s+', ' ', body).strip()  # Remove newlines and extra spaces\n",
    "#                     body_cleaned = body_cleaned.replace('\"', '')  # Remove double quotes\n",
    "#                     print(f\"Cleaned Body: {body_cleaned}\")\n",
    "\n",
    "#                     # Feed the cleaned email body into the model\n",
    "#                     input_mail_features = feature_extraction.transform([body_cleaned])\n",
    "#                     prediction = rf.predict(input_mail_features)\n",
    "\n",
    "#                     if prediction == 0:\n",
    "#                         print(\"SPAM MAIL\")\n",
    "#                         # Move the email to the Spam folder\n",
    "#                         mail.create(\"[Gmail]/Spam\")  # Ensure the Spam folder exists\n",
    "#                         mail.copy(latest_email_id, \"[Gmail]/Spam\")  # Copy the email to Spam\n",
    "#                         mail.store(latest_email_id, '+FLAGS', '\\\\Deleted')  # Mark it for deletion\n",
    "#                         mail.expunge()  # Expunge to permanently delete it from Inbox\n",
    "#                         print(\"Email moved to Spam folder.\")\n",
    "#                     else:\n",
    "#                         print(\"HAM MAIL (Not spam).\")\n",
    "\n",
    "#         else:\n",
    "#             print(\"No emails found.\")\n",
    "\n",
    "#         # Logout from the server\n",
    "#         mail.logout()\n",
    "\n",
    "#     except Exception as e:\n",
    "#         print(f\"An error occurred: {e}\")\n",
    "\n",
    "# # Run the function\n",
    "# fetch_and_predict_spam()\n"
   ]
  }
 ],
 "metadata": {
  "kernelspec": {
   "display_name": "Python 3",
   "language": "python",
   "name": "python3"
  },
  "language_info": {
   "codemirror_mode": {
    "name": "ipython",
    "version": 3
   },
   "file_extension": ".py",
   "mimetype": "text/x-python",
   "name": "python",
   "nbconvert_exporter": "python",
   "pygments_lexer": "ipython3",
   "version": "3.12.1"
  }
 },
 "nbformat": 4,
 "nbformat_minor": 5
}
